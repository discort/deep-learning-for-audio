{
 "cells": [
  {
   "cell_type": "markdown",
   "metadata": {},
   "source": [
    "# Expressive speech synthesis\n",
    "\n",
    "Text to Speech systems built using Neural Networks are proved being efifcient and robust, morover they can be scaled to multiple voices, but we still want to bring next level of naturalness of synthesis. As well as add controls to change intonation, highlight important words, transfer style of speeking of well know public speakers.\n",
    "\n",
    "# Prosody\n",
    "In linguistics, prosody is concerned with those elements of speech that are not individual phonetic segments but are properties of syllables and larger units of speech, including linguistic functions such as __intonation, tone, stress, and rhythm__\n",
    "\n",
    "Prosody conveys additional layer of information in our speech, it reflects mood of a speaker, encodes sarcasm. it also carries cultural context, and particular style of speeking prominent in one culture but absent in another.\n",
    "\n",
    "Hard part of this task is to __get a suitable representation__ of the style from a reference utterance which is dissentangled from speaker identity and linguistic content.\n",
    "\n",
    "<img src=\"assets/expressive_tts.png\" alt=\"expressive_tts\" style=\"height: 500px\"/>\n",
    "\n",
    "Data: \n",
    "A single speaker high-quality English dataset of audiobook recordings by Catherine Byers (the speaker from the 2013 Blizzard Challenge).\n",
    "- 147 hours\n",
    "- 49 books, read in an animated and emotive storytelling\n",
    "style.\n",
    "\n",
    "Image from [Towards End-to-End Prosody Transfer](https://arxiv.org/abs/1803.09047)"
   ]
  },
  {
   "cell_type": "code",
   "execution_count": 7,
   "metadata": {},
   "outputs": [],
   "source": [
    "from IPython.display import YouTubeVideo\n",
    "\n",
    "def display_yotube_video(url, **kwargs):\n",
    "    \"\"\"\n",
    "    Displays a Youtube video in a Jupyter notebook.\n",
    "    \n",
    "    Args:\n",
    "        url (string): a link to a Youtube video.\n",
    "        **kwargs: further arguments for IPython.display.YouTubeVideo\n",
    "    \n",
    "    Returns:\n",
    "        YouTubeVideo: a video that is displayed in your notebook.\n",
    "    \"\"\"\n",
    "    id_ = url.split(\"=\")[-1]\n",
    "    return YouTubeVideo(id_, **kwargs)"
   ]
  },
  {
   "cell_type": "code",
   "execution_count": 8,
   "metadata": {},
   "outputs": [
    {
     "data": {
      "image/jpeg": "[encoded data removed]",
      "text/html": [
       "\n",
       "        <iframe\n",
       "            width=\"800\"\n",
       "            height=\"600\"\n",
       "            src=\"https://www.youtube.com/embed/uyW0pOAKRME\"\n",
       "            frameborder=\"0\"\n",
       "            allowfullscreen\n",
       "        ></iframe>\n",
       "        "
      ],
      "text/plain": [
       "<IPython.lib.display.YouTubeVideo at 0x10765ce50>"
      ]
     },
     "execution_count": 8,
     "metadata": {},
     "output_type": "execute_result"
    }
   ],
   "source": [
    "display_yotube_video(\"https://www.youtube.com/watch?v=uyW0pOAKRME\", width=800, height=600)"
   ]
  },
  {
   "cell_type": "markdown",
   "metadata": {},
   "source": [
    "### Prosody Encoding. \n",
    "\n",
    "Given a spectorgam of a reference prosody, we want to extract prosodic information from a reference spectrogram but remove information about\n",
    "- lingustic content;\n",
    "- speaker;\n",
    "- room characteristics;\n",
    "- ignore noise or other background sounds;\n",
    "\n",
    "\n",
    "Gooo baseline of prosody encoder is a convolution encoder which acts on spectrograms and outputs prosody embeddings. $ Prosody=Enc({Spectro}) $"
   ]
  },
  {
   "cell_type": "markdown",
   "metadata": {},
   "source": [
    "<img src=\"assets/enc_text_speaker_prosody.png\" style=\"height: 500px\"/>"
   ]
  },
  {
   "cell_type": "markdown",
   "metadata": {},
   "source": [
    "### StyleTokens\n",
    "\n",
    "- Compute linear combination of learnable style vectors  with outputs of reference encoder and treat this as a stile embedding.\n",
    "- Style vectors are learned in unsupervised way, via $ \\large {\\frac{\\partial{L}}{\\partial{t_n}}, n \\in \\{0 ... N\\}}$\n",
    "- This approch makes possible to specify desired weight for each of the learned style tokens.\n",
    "\n",
    "<img src=\"assets/style_tokens.png\" />"
   ]
  },
  {
   "cell_type": "code",
   "execution_count": 9,
   "metadata": {},
   "outputs": [],
   "source": [
    "import torch.nn as nn\n",
    "class StyleTokenLayer(nn.Module):\n",
    "\n",
    "    def __init__(self, n_tokens=10, emb_dim=512):\n",
    "        super(StyleTokenLayer, self).__init__()\n",
    "\n",
    "        self.tokens = nn.Parameter(torch.rand(emb_dim,  n_tokens))\n",
    "        nn.init.xavier_uniform_(self.tokens.data, gain=nn.init.calculate_gain('linear'))\n",
    "\n",
    "    def forward(self, x):\n",
    "        \"\"\"\n",
    "\n",
    "        Parameters\n",
    "        ----------\n",
    "        x: torch.Tensor of shape (n_batch, n_hidden)\n",
    "\n",
    "        Returns\n",
    "        -------\n",
    "\n",
    "        \"\"\"\n",
    "        # style dot-product attention.\n",
    "        input_norms = torch.norm (x, dim=1, keepdim=True)\n",
    "        token_norms = torch.norm (self.tokens, dim=0, keepdim=True)\n",
    "        token_weights = F.softmax((x @ self.tokens) / input_norms / token_norms / 0.2, dim=-1)\n",
    "        return token_weights @ self.tokens.t()\n",
    "\n",
    "    def inference_with_softmax_temperature(self, x, T=1.0):\n",
    "        # style dot-product attention.\n",
    "        input_norms = torch.norm (x, dim=1, keepdim=True)\n",
    "        token_norms = torch.norm (self.tokens, dim=0, keepdim=True)\n",
    "        token_weights = F.softmax((x @ self.tokens) / input_norms / token_norms / T, dim=-1)\n",
    "        return token_weights @ self.tokens.t()\n",
    "\n",
    "    def inference_conditioned_on_style(self, token_weights):\n",
    "        return token_weights @ self.tokens.t()"
   ]
  },
  {
   "cell_type": "markdown",
   "metadata": {},
   "source": [
    "### SpeechSplit\n",
    "\n",
    "Ellegant idea on how to dissentangle Content, Rhythm, Timber and Pitch. Using informatioinal bottlenecks and RandomResampling operations, which by itself is a data augmentation! [SpeechSplit Demo](https://auspicious3000.github.io/SpeechSplit-Demo/)\n",
    "\n",
    "\n",
    "<img src=\"assets/speechflow.png\" alt=\"speechflow\" style=\"height: 400px\"/>"
   ]
  },
  {
   "cell_type": "markdown",
   "metadata": {},
   "source": [
    "# Zero speech chanllange\n",
    "\n",
    "https://zerospeech.com/\n",
    "\n",
    "- also known as TTS without Text\n",
    "- goal is to learn model which is able to speak in unknown language with data available only for infant\n",
    "- pushes the boundaries of representation learning approaches\n",
    "- important for low resource languages\n",
    "\n",
    "## Applications: \n",
    "- keyword search;\n",
    "- document classification;\n",
    "- image retrieval from speech;\n",
    "- speech to speech translation;\n",
    "\n",
    "<img src=\"assets/zero-speech.png\" style=\"height: 500px\">\n"
   ]
  },
  {
   "cell_type": "markdown",
   "metadata": {},
   "source": [
    "# Open questions in TTS modelling.\n",
    "1. How can we reduce the amount of training data necessary for training TTS models?\n",
    "2. Training on data from real life, with bacgkround noises, low quality audio.\n",
    "3. Effective dissentangling of audio data into set of independent features.\n",
    "4. learning better universal graphical representaiton then text or phonemes."
   ]
  }
 ],
 "metadata": {
  "kernelspec": {
   "display_name": "venv",
   "language": "python",
   "name": "venv"
  },
  "language_info": {
   "codemirror_mode": {
    "name": "ipython",
    "version": 3
   },
   "file_extension": ".py",
   "mimetype": "text/x-python",
   "name": "python",
   "nbconvert_exporter": "python",
   "pygments_lexer": "ipython3",
   "version": "3.7.6"
  }
 },
 "nbformat": 4,
 "nbformat_minor": 4
}
